{
 "cells": [
  {
   "cell_type": "markdown",
   "metadata": {},
   "source": [
    "# Mohammad Mehdi Pirnia"
   ]
  },
  {
   "cell_type": "markdown",
   "metadata": {
    "id": "OnRRnRLFvDS9"
   },
   "source": [
    "# Matrix multiplication\n",
    "# omp_reduction, full Parallel [C] "
   ]
  },
  {
   "cell_type": "code",
   "execution_count": 1,
   "metadata": {
    "colab": {
     "base_uri": "https://localhost:8080/"
    },
    "executionInfo": {
     "elapsed": 608,
     "status": "ok",
     "timestamp": 1630843020086,
     "user": {
      "displayName": "Mohammad Mehdi Pirnia",
      "photoUrl": "https://lh3.googleusercontent.com/a-/AOh14GgTIOt6x4yNZuC-qUUkAAzMAAjEyM2wsaRU3Ll_3w=s64",
      "userId": "14685146112947766055"
     },
     "user_tz": -270
    },
    "id": "M_isyz6fvDTC",
    "outputId": "baa29ce9-c8f5-41fa-d714-016f786d51dc"
   },
   "outputs": [
    {
     "name": "stdout",
     "output_type": "stream",
     "text": [
      "Writing omp_getEnvInfo.c\n"
     ]
    }
   ],
   "source": [
    "%%writefile omp_reduction.c\n",
    "\n",
    "/******************************************************************************\n",
    "* FILE: omp_getEnvInfo.c\n",
    "* DESCRIPTION:\n",
    "*   OpenMP Example - Get Environment Information - C/C++ Version\n",
    "*   The master thread queries and prints selected environment information.\n",
    "* AUTHOR: Blaise Barney  7/06\n",
    "* LAST REVISED: 07/12/06\n",
    "* Writed from scratch by Adam Pirnia\n",
    "******************************************************************************/\n",
    "\n",
    "#include <omp.h>\n",
    "#include <stdio.h>\n",
    "#include <stdlib.h>\n",
    "#include <time.h>\n",
    "\n",
    "int main (int argc, char *argv[]) {\n",
    "\n",
    "  int   i, j, tid;\n",
    "  int chunk = abs(ar/omp_get_num_threads());\n",
    "  double *a, *b, sam, t1, t2; \n",
    "  time_t wt1,wt2;\n",
    "  int nt = omp_get_num_threads();\n",
    "  #define nthreads nt\n",
    "  #define row 12000\n",
    "  #define clmn 1800\n",
    "  a = (double *)malloc(ar * ac * sizeof(double));\n",
    "  b = (double *)malloc(br * bc * sizeof(double));\n",
    "\n",
    "  time(&wt1);\n",
    "\n",
    "  #pragma omp parallel shared(a,b,nthreads,chunk) private(tid,i,j)\n",
    "    {\n",
    "\n",
    "      tid = omp_get_thread_num();\n",
    "      if (tid == 0){\n",
    "        printf(\"Starting matrix multiple example with %d thread(s)\\n\",nthreads);\n",
    "        printf(\"Initializing matrices...\\n\");\n",
    "        t1=(double)clock()/(double)CLOCKS_PER_SEC;\n",
    "      }\n",
    "\n",
    "      /* Matrix initializations simultaneously*/\n",
    "      #pragma omp for schedule (static, chunk) \n",
    "      for (i=0; i < row; i++)\n",
    "        for (j=0; j < clmn; j++){\n",
    "          a[i*clmn + j] = (i+j) * (i+j);\n",
    "          b[i*clmn + j] = i*j + i*j;\n",
    "          };\n",
    "      t2=(double)clock()/(double)CLOCKS_PER_SEC;\n",
    "      printf(\"Matrix initialization CPUtime %5.2fs\\n\",t2-t1);\n",
    "          \n",
    "\n",
    "      sam = 0.0;\n",
    "\n",
    "      #pragma omp parallel for reduction(+:sam)\n",
    "        for (i=0; i < row; i++)\n",
    "          for (j=0; j < clmn; j++)\n",
    "            sam = sam + (a[i*clmn + j] * b[i*clmn + j]);\n",
    "\n",
    "      printf(\"   sam = %f\\n\",sam);\n",
    "    }\n",
    "\n",
    "    time(&wt2);\n",
    "    printf(\"Computation WallClockTime %2.0fs\\n\",difftime(wt2,wt1));\n",
    "}"
   ]
  },
  {
   "cell_type": "markdown",
   "metadata": {
    "id": "crdwoAF3vDTG"
   },
   "source": [
    "## Compile"
   ]
  },
  {
   "cell_type": "code",
   "execution_count": 2,
   "metadata": {
    "id": "miljDNxsvDTG"
   },
   "outputs": [],
   "source": [
    "!gcc -o omp_getEnvInfo omp_reduction.c  -fopenmp -O0"
   ]
  },
  {
   "cell_type": "markdown",
   "metadata": {
    "id": "P3gO84qnvDTH"
   },
   "source": [
    "## Run"
   ]
  },
  {
   "cell_type": "code",
   "execution_count": 3,
   "metadata": {
    "id": "ZARn96UuvDTH",
    "outputId": "2307fb04-337c-42a2-900f-9d7909fed23c"
   },
   "outputs": [
    {
     "name": "stdout",
     "output_type": "stream",
     "text": [
      "Thread 0 getting environment info...\r\n",
      "Number of processors = 8\r\n",
      "Number of threads = 8\r\n",
      "Max threads = 8\r\n",
      "In parallel? = 1\r\n",
      "Dynamic threads enabled? = 0\r\n",
      "Nested parallelism supported? = 0\r\n"
     ]
    }
   ],
   "source": [
    "!./omp_getEnvInfo"
   ]
  },
  {
   "cell_type": "markdown",
   "metadata": {
    "id": "DoNGM1MCvDTS"
   },
   "source": [
    "# Matrix Multiplication\n",
    "# Not Paralle [C]"
   ]
  },
  {
   "cell_type": "code",
   "execution_count": null,
   "metadata": {
    "id": "A1lxtwVVvDTT",
    "outputId": "3a841479-6442-4854-852e-8865571d3cb6"
   },
   "outputs": [
    {
     "name": "stdout",
     "output_type": "stream",
     "text": [
      "Writing omp_reduction.c\n"
     ]
    }
   ],
   "source": [
    "%%writedile mm_notparallel.c\n",
    "\n",
    "#include <stdio.h>\n",
    "#include <stdlib.h>\n",
    "#include <time.h>\n",
    "\n",
    "int main (int argc, char *argv[]) {\n",
    "\n",
    "  int   i, j, row = 12000, clmn = 18000;\n",
    "  double *a, *b;\n",
    "  double sam, t1, t2; \n",
    "  time_t wt1,wt2;\n",
    "\n",
    "  a = (double *)malloc(row * clmn * sizeof(double));\n",
    "  b = (double *)malloc(row * clmn * sizeof(double));\n",
    "\n",
    "  time(&wt1);\n",
    "  printf(\"Starting matrix multiple example not parallel\\n\");\n",
    "  printf(\"Initializing matrices...\\n\");\n",
    "\n",
    "  t1=(double)clock()/(double)CLOCKS_PER_SEC;\n",
    "\n",
    "  /* Matrix initializations simultaneously*/\n",
    "      \n",
    "  for (i=0; i < row; i++)\n",
    "    for (j=0; j < clmn; j++){\n",
    "      a[i*clmn + j] = (i+j) * (i+j);\n",
    "      b[i*clmn + j] = i*j + i*j;\n",
    "      };\n",
    "      \n",
    "  t2=(double)clock()/(double)CLOCKS_PER_SEC;\n",
    "  printf(\"Matrix initialization CPUtime %5.2fs\\n\",t2-t1);\n",
    "          \n",
    "  sam = 0.0;\n",
    "\n",
    "      \n",
    "  for (i=0; i < row; i++)\n",
    "  for (j=0; j < clmn; j++)\n",
    "  sam = sam + (a[i*clmn + j] * b[i*clmn + j]);\n",
    "\n",
    "  printf(\"   sam = %f\\n\",sam);\n",
    "    \n",
    "\n",
    "  time(&wt2);\n",
    "  printf(\"Computation WallClockTime %2.0fs\\n\",difftime(wt2,wt1));\n",
    "}"
   ]
  },
  {
   "cell_type": "markdown",
   "metadata": {
    "id": "VdkflsPLvDTT"
   },
   "source": [
    "## Compile"
   ]
  },
  {
   "cell_type": "code",
   "execution_count": null,
   "metadata": {
    "id": "WjGk_s5XvDTT"
   },
   "outputs": [],
   "source": [
    "!gcc -o mm_notparallel mm_notparallel.c  -fopenmp -O0"
   ]
  },
  {
   "cell_type": "markdown",
   "metadata": {
    "id": "AYpPrtDNvDTT"
   },
   "source": [
    "## Run"
   ]
  },
  {
   "cell_type": "code",
   "execution_count": null,
   "metadata": {
    "id": "oS3dT7OavDTU"
   },
   "outputs": [],
   "source": [
    "!./mm_notparallel"
   ]
  }
 ],
 "metadata": {
  "colab": {
   "name": "openmp.ipynb",
   "provenance": [
    {
     "file_id": "https://github.com/hpc-workshop/hpc/blob/master/openmp.ipynb",
     "timestamp": 1630842910213
    }
   ]
  },
  "kernelspec": {
   "display_name": "Python 3",
   "language": "python",
   "name": "python3"
  },
  "language_info": {
   "codemirror_mode": {
    "name": "ipython",
    "version": 3
   },
   "file_extension": ".py",
   "mimetype": "text/x-python",
   "name": "python",
   "nbconvert_exporter": "python",
   "pygments_lexer": "ipython3",
   "version": "3.8.10"
  }
 },
 "nbformat": 4,
 "nbformat_minor": 1
}
